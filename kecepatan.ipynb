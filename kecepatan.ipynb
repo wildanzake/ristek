{
 "cells": [
  {
   "cell_type": "code",
   "execution_count": 19,
   "metadata": {},
   "outputs": [
    {
     "name": "stdout",
     "output_type": "stream",
     "text": [
      "Processed data for 2023-07-20T15:00:00\n",
      "Processed data for 2023-07-21T15:00:00\n",
      "Processed data for 2023-07-22T15:00:00\n",
      "Processed data for 2023-07-23T15:00:00\n",
      "Processed data for 2023-07-24T15:00:00\n",
      "Processed data for 2023-07-25T15:00:00\n",
      "Processed data for 2023-07-26T15:00:00\n",
      "Processed data for 2023-07-27T15:00:00\n",
      "Processed data for 2023-07-28T15:00:00\n",
      "Processed data for 2023-07-29T15:00:00\n",
      "Processed data for 2023-07-30T15:00:00\n",
      "Processed data for 2023-07-31T15:00:00\n",
      "Processed data for 2023-08-01T15:00:00\n",
      "Processed data for 2023-08-02T15:00:00\n",
      "Processed data for 2023-08-03T15:00:00\n",
      "Processed data for 2023-08-04T15:00:00\n",
      "Processed data for 2023-08-05T15:00:00\n",
      "Processed data for 2023-08-06T15:00:00\n",
      "Processed data for 2023-08-07T15:00:00\n",
      "Processed data for 2023-08-08T15:00:00\n",
      "Processed data for 2023-08-09T15:00:00\n",
      "Processed data for 2023-08-10T15:00:00\n",
      "Processed data for 2023-08-11T15:00:00\n",
      "Processed data for 2023-08-12T15:00:00\n",
      "Processed data for 2023-08-13T15:00:00\n",
      "Processed data for 2023-08-14T15:00:00\n",
      "Processed data for 2023-08-15T15:00:00\n",
      "Processed data for 2023-08-16T15:00:00\n",
      "Processed data for 2023-08-17T15:00:00\n",
      "Processed data for 2023-08-18T15:00:00\n",
      "Processed data for 2023-08-19T15:00:00\n",
      "Data collection completed.\n",
      "Response data:\n",
      "{'error': 'Invalid zoom value.', 'httpStatusCode': 400, 'detailedError': {'code': 'INVALID_REQUEST', 'message': 'Invalid zoom value.'}}\n"
     ]
    }
   ],
   "source": [
    "import requests\n",
    "import datetime\n",
    "import csv\n",
    "\n",
    "# API Key\n",
    "api_key = \"16mjJoC9KS9zNo9rZZJxsVYtqHeNVirt\"\n",
    "\n",
    "# Base URL for traffic flow data\n",
    "base_url = \"https://api.tomtom.com/traffic/services/4/flowSegmentData/absolute/{format}\"\n",
    "\n",
    "# Start and end points\n",
    "start = \"-6.935271,107.717554\"\n",
    "end = \"-6.917358,107.574423\"\n",
    "\n",
    "# Date range\n",
    "end_date = datetime.date.today()\n",
    "start_date = end_date - datetime.timedelta(days=30)  # 30 days ago\n",
    "\n",
    "# Open CSV file for writing\n",
    "csv_file = \"traffic_data.csv\"\n",
    "csv_columns = [\n",
    "    \"dateTime\", \"startPoint\", \"endPoint\", \"currentSpeed\", \"freeFlowSpeed\",\n",
    "    \"currentTravelTime\", \"freeFlowTravelTime\", \"confidence\", \"roadClosure\"\n",
    "]\n",
    "\n",
    "with open(csv_file, \"w\", newline=\"\") as file:\n",
    "    writer = csv.DictWriter(file, fieldnames=csv_columns)\n",
    "    writer.writeheader()\n",
    "\n",
    "    # Loop through dates\n",
    "    current_date = start_date\n",
    "    while current_date <= end_date:\n",
    "        formatted_date = current_date.strftime(\"%Y-%m-%dT15:00:00\")\n",
    "        request_url = f\"{base_url}/json?unit=KMPH&point={start}&point={end}&openLR=true&dateTime={formatted_date}&key={api_key}\"\n",
    "        \n",
    "        response = requests.get(request_url)\n",
    "        data = response.json()\n",
    "\n",
    "        if \"flowSegmentData\" in data:\n",
    "            flow_data = data[\"flowSegmentData\"]\n",
    "            if flow_data:\n",
    "                for segment in flow_data:\n",
    "                    row = {\n",
    "                        \"dateTime\": formatted_date,\n",
    "                        \"startPoint\": start,\n",
    "                        \"endPoint\": end,\n",
    "                        \"currentSpeed\": segment.get(\"currentSpeed\", \"\"),\n",
    "                        \"freeFlowSpeed\": segment.get(\"freeFlowSpeed\", \"\"),\n",
    "                        \"currentTravelTime\": segment.get(\"currentTravelTime\", \"\"),\n",
    "                        \"freeFlowTravelTime\": segment.get(\"freeFlowTravelTime\", \"\"),\n",
    "                        \"confidence\": segment.get(\"confidence\", \"\"),\n",
    "                        \"roadClosure\": segment.get(\"roadClosure\", \"\")\n",
    "                    }\n",
    "                    writer.writerow(row)\n",
    "        current_date += datetime.timedelta(days=1)\n",
    "        print(f\"Processed data for {formatted_date}\")\n",
    "\n",
    "print(\"Data collection completed.\")\n",
    "print(\"Response data:\")\n",
    "print(data)"
   ]
  },
  {
   "cell_type": "code",
   "execution_count": 16,
   "metadata": {},
   "outputs": [
    {
     "name": "stdout",
     "output_type": "stream",
     "text": [
      "Response data:\n",
      "{'error': 'Invalid zoom value.', 'httpStatusCode': 400, 'detailedError': {'code': 'INVALID_REQUEST', 'message': 'Invalid zoom value.'}}\n"
     ]
    }
   ],
   "source": [
    "print(\"Response data:\")\n",
    "print(data)"
   ]
  }
 ],
 "metadata": {
  "kernelspec": {
   "display_name": "Python 3",
   "language": "python",
   "name": "python3"
  },
  "language_info": {
   "codemirror_mode": {
    "name": "ipython",
    "version": 3
   },
   "file_extension": ".py",
   "mimetype": "text/x-python",
   "name": "python",
   "nbconvert_exporter": "python",
   "pygments_lexer": "ipython3",
   "version": "3.11.4"
  },
  "orig_nbformat": 4
 },
 "nbformat": 4,
 "nbformat_minor": 2
}
