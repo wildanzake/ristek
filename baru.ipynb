{
 "cells": [
  {
   "cell_type": "code",
   "execution_count": 1,
   "metadata": {},
   "outputs": [
    {
     "name": "stdout",
     "output_type": "stream",
     "text": [
      "Defaulting to user installation because normal site-packages is not writeable\n",
      "Requirement already satisfied: requests in /Users/simplestore/Library/Python/3.9/lib/python/site-packages (2.31.0)\n",
      "Requirement already satisfied: pandas in /Users/simplestore/Library/Python/3.9/lib/python/site-packages (2.0.3)\n",
      "Requirement already satisfied: charset-normalizer<4,>=2 in /Users/simplestore/Library/Python/3.9/lib/python/site-packages (from requests) (3.2.0)\n",
      "Requirement already satisfied: idna<4,>=2.5 in /Users/simplestore/Library/Python/3.9/lib/python/site-packages (from requests) (3.4)\n",
      "Requirement already satisfied: urllib3<3,>=1.21.1 in /Users/simplestore/Library/Python/3.9/lib/python/site-packages (from requests) (1.26.16)\n",
      "Requirement already satisfied: certifi>=2017.4.17 in /Users/simplestore/Library/Python/3.9/lib/python/site-packages (from requests) (2023.7.22)\n",
      "Requirement already satisfied: python-dateutil>=2.8.2 in /Users/simplestore/Library/Python/3.9/lib/python/site-packages (from pandas) (2.8.2)\n",
      "Requirement already satisfied: pytz>=2020.1 in /Users/simplestore/Library/Python/3.9/lib/python/site-packages (from pandas) (2023.3)\n",
      "Requirement already satisfied: tzdata>=2022.1 in /Users/simplestore/Library/Python/3.9/lib/python/site-packages (from pandas) (2023.3)\n",
      "Requirement already satisfied: numpy>=1.20.3 in /Users/simplestore/Library/Python/3.9/lib/python/site-packages (from pandas) (1.24.3)\n",
      "Requirement already satisfied: six>=1.5 in /Library/Developer/CommandLineTools/Library/Frameworks/Python3.framework/Versions/3.9/lib/python3.9/site-packages (from python-dateutil>=2.8.2->pandas) (1.15.0)\n",
      "Note: you may need to restart the kernel to use updated packages.\n"
     ]
    }
   ],
   "source": [
    "pip install requests pandas"
   ]
  },
  {
   "cell_type": "code",
   "execution_count": 9,
   "metadata": {},
   "outputs": [
    {
     "name": "stdout",
     "output_type": "stream",
     "text": [
      "Data lalu lintas di Jakarta disimpan dalam /Users/simplestore/Downloads/traffic_data_jakarta.csv\n"
     ]
    }
   ],
   "source": [
    "import requests\n",
    "import pandas as pd\n",
    "\n",
    "# Ganti dengan API key Anda\n",
    "api_key = \"16mjJoC9KS9zNo9rZZJxsVYtqHeNVirt\"\n",
    "\n",
    "# Endpoint untuk mengambil data lalu lintas\n",
    "endpoint = \"https://api.tomtom.com/traffic/services/4/flowSegmentData/absolute/10/json\"\n",
    "\n",
    "# Koordinat Jakarta (contoh: Monas)\n",
    "latitude = -6.1754\n",
    "longitude = 106.8272\n",
    "\n",
    "parameters = {\n",
    "    \"point\": f\"{latitude},{longitude}\",\n",
    "    \"unit\": \"KMPH\",\n",
    "    \"key\": api_key\n",
    "}\n",
    "\n",
    "response = requests.get(endpoint, params=parameters)\n",
    "data = response.json()\n",
    "\n",
    "# Mengubah data menjadi DataFrame\n",
    "df = pd.DataFrame(data['flowSegmentData'])\n",
    "\n",
    "# Menyimpan DataFrame dalam file CSV\n",
    "csv_filename = \"/Users/simplestore/Downloads/traffic_data_jakarta.csv\"\n",
    "df.to_csv(csv_filename, index=False)\n",
    "print(f\"Data lalu lintas di Jakarta disimpan dalam {csv_filename}\")"
   ]
  },
  {
   "cell_type": "code",
   "execution_count": 13,
   "metadata": {},
   "outputs": [
    {
     "data": {
      "text/html": [
       "<div>\n",
       "<style scoped>\n",
       "    .dataframe tbody tr th:only-of-type {\n",
       "        vertical-align: middle;\n",
       "    }\n",
       "\n",
       "    .dataframe tbody tr th {\n",
       "        vertical-align: top;\n",
       "    }\n",
       "\n",
       "    .dataframe thead th {\n",
       "        text-align: right;\n",
       "    }\n",
       "</style>\n",
       "<table border=\"1\" class=\"dataframe\">\n",
       "  <thead>\n",
       "    <tr style=\"text-align: right;\">\n",
       "      <th></th>\n",
       "      <th>frc</th>\n",
       "      <th>currentSpeed</th>\n",
       "      <th>freeFlowSpeed</th>\n",
       "      <th>currentTravelTime</th>\n",
       "      <th>freeFlowTravelTime</th>\n",
       "      <th>confidence</th>\n",
       "      <th>roadClosure</th>\n",
       "      <th>coordinates</th>\n",
       "      <th>@version</th>\n",
       "    </tr>\n",
       "  </thead>\n",
       "  <tbody>\n",
       "    <tr>\n",
       "      <th>coordinate</th>\n",
       "      <td>FRC3</td>\n",
       "      <td>36</td>\n",
       "      <td>36</td>\n",
       "      <td>112</td>\n",
       "      <td>112</td>\n",
       "      <td>1</td>\n",
       "      <td>False</td>\n",
       "      <td>[{'latitude': -6.174005941905169, 'longitude':...</td>\n",
       "      <td>traffic-service-flow 1.0.098</td>\n",
       "    </tr>\n",
       "  </tbody>\n",
       "</table>\n",
       "</div>"
      ],
      "text/plain": [
       "             frc  currentSpeed  freeFlowSpeed  currentTravelTime  \\\n",
       "coordinate  FRC3            36             36                112   \n",
       "\n",
       "            freeFlowTravelTime  confidence  roadClosure  \\\n",
       "coordinate                 112           1        False   \n",
       "\n",
       "                                                  coordinates  \\\n",
       "coordinate  [{'latitude': -6.174005941905169, 'longitude':...   \n",
       "\n",
       "                                @version  \n",
       "coordinate  traffic-service-flow 1.0.098  "
      ]
     },
     "execution_count": 13,
     "metadata": {},
     "output_type": "execute_result"
    }
   ],
   "source": [
    "df"
   ]
  },
  {
   "cell_type": "code",
   "execution_count": 14,
   "metadata": {},
   "outputs": [
    {
     "name": "stdout",
     "output_type": "stream",
     "text": [
      "             frc  currentSpeed  freeFlowSpeed  currentTravelTime  freeFlowTravelTime  confidence  roadClosure                                                                                                                                                                                                                                                                                                                                                                                                                                                                                                                                                                                                                                                                                                                                                                                                                                                                                                                                                                                                                                                                                                                                                                                                                                                                                                                                                                                                                                                                                                                                                                                                                                                                                                                                                                                                                                                                                                                                                                                                                                                                                                                                                                                                                                                                                                                                                                                                                                                                                                                                                                                                                                                                                                                                                                                                                                                                                                            coordinates                      @version\n",
      "coordinate  FRC3            36             36                112                 112           1        False  [{'latitude': -6.174005941905169, 'longitude': 106.82974520207705}, {'latitude': -6.174033586378578, 'longitude': 106.82978261530013}, {'latitude': -6.174065191552941, 'longitude': 106.82989181333954}, {'latitude': -6.174051542605629, 'longitude': 106.82980522646801}, {'latitude': -6.174038857793025, 'longitude': 106.82972768451356}, {'latitude': -6.174020944496745, 'longitude': 106.82963507487369}, {'latitude': -6.173959597348209, 'longitude': 106.82931620988614}, {'latitude': -6.173923207500876, 'longitude': 106.82912301095888}, {'latitude': -6.173782834976087, 'longitude': 106.82886862911676}, {'latitude': -6.173554219546036, 'longitude': 106.82861251823084}, {'latitude': -6.17329106387664, 'longitude': 106.82844924722536}, {'latitude': -6.173062404450955, 'longitude': 106.82837779307079}, {'latitude': -6.172861552856585, 'longitude': 106.82835417041048}, {'latitude': -6.172661713220646, 'longitude': 106.82837193881033}, {'latitude': -6.172266680498224, 'longitude': 106.8284915801242}, {'latitude': -6.17216606246117, 'longitude': 106.82852367386647}, {'latitude': -6.171931362892574, 'longitude': 106.82860123005003}, {'latitude': -6.171946096047416, 'longitude': 106.8286002138866}, {'latitude': -6.17192622306331, 'longitude': 106.82859887385234}, {'latitude': -6.171957065454429, 'longitude': 106.82860591051366}, {'latitude': -6.172003451663654, 'longitude': 106.8286250050732}, {'latitude': -6.172078135188047, 'longitude': 106.82867480769056}, {'latitude': -6.172141990819195, 'longitude': 106.8287495125212}, {'latitude': -6.172166723054643, 'longitude': 106.82879617071671}, {'latitude': -6.172176537566209, 'longitude': 106.82882404385083}, {'latitude': -6.172173887695905, 'longitude': 106.82880944162878}, {'latitude': -6.172172794814137, 'longitude': 106.82877785490638}, {'latitude': -6.172174700782026, 'longitude': 106.82875089959083}, {'latitude': -6.172174700782026, 'longitude': 106.82866094796452}, {'latitude': -6.172173279009912, 'longitude': 106.82846713253565}, {'latitude': -6.172171947273336, 'longitude': 106.82780675842133}, {'latitude': -6.172169235817201, 'longitude': 106.82726948716015}, {'latitude': -6.17216004580107, 'longitude': 106.82693803813277}, {'latitude': -6.172166624224516, 'longitude': 106.82627503689531}, {'latitude': -6.172165275663377, 'longitude': 106.82559139925945}, {'latitude': -6.172143808570571, 'longitude': 106.82386535783962}, {'latitude': -6.172145816847807, 'longitude': 106.82351174139518}, {'latitude': -6.172061044216534, 'longitude': 106.82324846118331}, {'latitude': -6.172012639819159, 'longitude': 106.82302066687834}, {'latitude': -6.171995217616297, 'longitude': 106.82294261225087}, {'latitude': -6.171983445420706, 'longitude': 106.82285819265974}, {'latitude': -6.17192077763891, 'longitude': 106.82237591003565}]  traffic-service-flow 1.0.098\n"
     ]
    }
   ],
   "source": [
    "print(df.to_string())"
   ]
  },
  {
   "cell_type": "code",
   "execution_count": 16,
   "metadata": {},
   "outputs": [
    {
     "name": "stdout",
     "output_type": "stream",
     "text": [
      "    frc  currentSpeed  freeFlowSpeed  currentTravelTime  freeFlowTravelTime  \\\n",
      "0  FRC3            36             36                112                 112   \n",
      "\n",
      "   confidence  roadClosure                                        coordinates  \\\n",
      "0           1        False  [{'latitude': -6.174005941905169, 'longitude':...   \n",
      "\n",
      "                       @version  \n",
      "0  traffic-service-flow 1.0.098  \n"
     ]
    }
   ],
   "source": [
    "# Contoh membaca file CSV dan menampilkan isinya\n",
    "csv_filename = \"/Users/simplestore/Downloads/traffic_data_jakarta.csv\"\n",
    "df_from_csv = pd.read_csv(csv_filename)\n",
    "print(df_from_csv)"
   ]
  },
  {
   "cell_type": "code",
   "execution_count": 18,
   "metadata": {},
   "outputs": [
    {
     "name": "stdout",
     "output_type": "stream",
     "text": [
      "Defaulting to user installation because normal site-packages is not writeable\n",
      "\u001b[31mERROR: Could not open requirements file: [Errno 2] No such file or directory: 'requirements.txt'\u001b[0m\u001b[31m\n",
      "\u001b[0mNote: you may need to restart the kernel to use updated packages.\n"
     ]
    }
   ],
   "source": [
    "pip install -r requirements.txt"
   ]
  },
  {
   "cell_type": "code",
   "execution_count": null,
   "metadata": {},
   "outputs": [],
   "source": []
  }
 ],
 "metadata": {
  "kernelspec": {
   "display_name": "Python 3",
   "language": "python",
   "name": "python3"
  },
  "language_info": {
   "codemirror_mode": {
    "name": "ipython",
    "version": 3
   },
   "file_extension": ".py",
   "mimetype": "text/x-python",
   "name": "python",
   "nbconvert_exporter": "python",
   "pygments_lexer": "ipython3",
   "version": "3.9.6"
  },
  "orig_nbformat": 4
 },
 "nbformat": 4,
 "nbformat_minor": 2
}
